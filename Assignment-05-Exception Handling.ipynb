{
 "cells": [
  {
   "cell_type": "code",
   "execution_count": 26,
   "metadata": {
    "scrolled": true
   },
   "outputs": [
    {
     "name": "stdout",
     "output_type": "stream",
     "text": [
      "Enter the number: 0\n",
      "this is not a valid division\n",
      "the function got executed\n"
     ]
    }
   ],
   "source": [
    "## Assignment 05 Exception Handling\n",
    "\n",
    "## Ans 1\n",
    "\n",
    "try:\n",
    "    Input=input(\"Enter the number: \")\n",
    "    Number=int(Input)\n",
    "    \n",
    "    def Arithmetic(x):\n",
    "        result=5/x\n",
    "        return result\n",
    "    \n",
    "    print(Arithmetic(Number))\n",
    "    \n",
    "except:\n",
    "    print(\"this is not a valid division\")\n",
    "    \n",
    "finally:\n",
    "    print(\"the function got executed\")\n",
    "\n",
    "  \n",
    "\n"
   ]
  },
  {
   "cell_type": "code",
   "execution_count": 34,
   "metadata": {},
   "outputs": [
    {
     "name": "stdout",
     "output_type": "stream",
     "text": [
      "Americans  play Baseball.\n",
      "Americans  play Cricket.\n",
      "Americans  watch Baseball.\n",
      "Americans  watch Cricket.\n",
      "Indians play Baseball.\n",
      "Indians play Cricket.\n",
      "Indians watch Baseball.\n",
      "Indians watch Cricket.\n"
     ]
    }
   ],
   "source": [
    "# Ans 2\n",
    "\n",
    "subjects=[\"Americans \",\"Indians\"]\n",
    "verbs=[\"play\",\"watch\"]\n",
    "objects=[\"Baseball\",\"Cricket\"]\n",
    "\n",
    "#the concatenated string list\n",
    "StrIter=[s+\" \"+v+\" \"+o+\".\"  for s in subjects for v in verbs for o in objects]\n",
    "\n",
    "for i in StrIter:\n",
    "    print(i)\n",
    "            \n",
    "        "
   ]
  },
  {
   "cell_type": "code",
   "execution_count": null,
   "metadata": {},
   "outputs": [],
   "source": []
  },
  {
   "cell_type": "code",
   "execution_count": null,
   "metadata": {},
   "outputs": [],
   "source": []
  },
  {
   "cell_type": "code",
   "execution_count": null,
   "metadata": {},
   "outputs": [],
   "source": []
  }
 ],
 "metadata": {
  "kernelspec": {
   "display_name": "Python 3",
   "language": "python",
   "name": "python3"
  },
  "language_info": {
   "codemirror_mode": {
    "name": "ipython",
    "version": 3
   },
   "file_extension": ".py",
   "mimetype": "text/x-python",
   "name": "python",
   "nbconvert_exporter": "python",
   "pygments_lexer": "ipython3",
   "version": "3.7.3"
  }
 },
 "nbformat": 4,
 "nbformat_minor": 2
}
