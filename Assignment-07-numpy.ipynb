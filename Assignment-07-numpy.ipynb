{
 "cells": [
  {
   "cell_type": "code",
   "execution_count": 9,
   "metadata": {},
   "outputs": [
    {
     "name": "stdout",
     "output_type": "stream",
     "text": [
      "the output array is:[[ 1  1  1]\n",
      " [ 1  2  4]\n",
      " [ 1  3  9]\n",
      " [ 1  4 16]\n",
      " [ 1  5 25]]\n",
      "the output array is:[[   1    1    1    1    1]\n",
      " [ 256   64   16    4    1]\n",
      " [2401  343   49    7    1]\n",
      " [1296  216   36    6    1]\n",
      " [6561  729   81    9    1]\n",
      " [ 625  125   25    5    1]]\n"
     ]
    }
   ],
   "source": [
    "## Assignment 06 Data cleaning Assignment\n",
    "\n",
    "## Ans 1\n",
    "\n",
    "import numpy as np\n",
    "\n",
    "\n",
    "\n",
    "def powerraiser(list1,k,increasing):\n",
    "    MatrixOut=np.array([])\n",
    "    if increasing==True:\n",
    "        MatrixOut=np.array([x**i for x in list1 for i in range(k)]).reshape(list1.size,k)\n",
    "        return MatrixOut\n",
    "    if increasing==False:\n",
    "        MatrixOut=np.array([x**(k-i-1) for x in list1 for i in range(k)]).reshape(list1.size,k)\n",
    "        return MatrixOut\n",
    "    \n",
    "##Test 1\n",
    "InputList=np.array([1,2,3,4,5])\n",
    "g=3\n",
    "IncCounter=True\n",
    "    \n",
    "            \n",
    "print(\"the output array is:\"+str(powerraiser(InputList,g,IncCounter)))\n",
    "\n",
    "##Test 1\n",
    "InputList1=np.array([1,4,7,6,9,5])\n",
    "g1=len(InputList)\n",
    "IncCounter1=False\n",
    "    \n",
    "            \n",
    "print(\"the output array is:\"+str(powerraiser(InputList1,g1,IncCounter1)))"
   ]
  },
  {
   "cell_type": "code",
   "execution_count": 10,
   "metadata": {},
   "outputs": [
    {
     "name": "stdout",
     "output_type": "stream",
     "text": [
      "Rolling average is:[  5.           4.66666667   5.66666667   6.66666667   9.66666667\n",
      "  28.66666667  49.33333333  72.66666667  84.          93.33333333\n",
      " 116.33333333]\n"
     ]
    }
   ],
   "source": [
    "##Ans 2\n",
    "\n",
    "import pandas as pd\n",
    "import numpy as np\n",
    "\n",
    "listK=np.array([3, 5, 7, 2, 8, 10, 11, 65, 72, 81, 99, 100, 150])\n",
    "Win=3\n",
    "\n",
    "\n",
    "def rolAvg(list1,Window):\n",
    "    Avg=0\n",
    "    ListAvg=np.array([])\n",
    "    for i in range(0,(len(list1)-Window+1)):\n",
    "        Avg=((list1[i]+list1[i+1]+list1[i+2])/Window)\n",
    "        ListAvg=np.append(ListAvg,Avg)\n",
    "    return ListAvg\n",
    "    \n",
    "##Test\n",
    "\n",
    "print(\"Rolling average is:\"+str(rolAvg(listK,Win)))"
   ]
  },
  {
   "cell_type": "code",
   "execution_count": null,
   "metadata": {},
   "outputs": [],
   "source": []
  }
 ],
 "metadata": {
  "kernelspec": {
   "display_name": "Python 3",
   "language": "python",
   "name": "python3"
  },
  "language_info": {
   "codemirror_mode": {
    "name": "ipython",
    "version": 3
   },
   "file_extension": ".py",
   "mimetype": "text/x-python",
   "name": "python",
   "nbconvert_exporter": "python",
   "pygments_lexer": "ipython3",
   "version": "3.7.3"
  }
 },
 "nbformat": 4,
 "nbformat_minor": 2
}
