{
 "cells": [
  {
   "cell_type": "code",
   "execution_count": 1,
   "metadata": {
    "scrolled": true
   },
   "outputs": [
    {
     "name": "stdout",
     "output_type": "stream",
     "text": [
      "insert side1 6\n",
      "insert side2 8\n",
      "insert side3 10\n",
      "Area of a Triangle:24.0\n"
     ]
    }
   ],
   "source": [
    "## Assignment 04\n",
    "\n",
    "## Ans 1.1\n",
    "\n",
    "Input1=input(\"insert side1 \")\n",
    "Input2=input(\"insert side2 \")\n",
    "Input3=input(\"insert side3 \")\n",
    "Tside1=int(Input1)\n",
    "Tside2=int(Input2)\n",
    "Tside3=int(Input3)\n",
    "class Triangle:\n",
    " def __init__(self,side1,side2,side3):\n",
    "    self.side1=side1\n",
    "    self.side2=side2\n",
    "    self.side3=side3\n",
    "        \n",
    "class Triangleexec(Triangle):\n",
    "    \n",
    " def __init__(self,side1,side2,side3):\n",
    "    super(Triangleexec,self).__init__(side1,side2,side3)\n",
    "        \n",
    " def Area(self):\n",
    "    s=(self.side1+self.side2+self.side3)/2\n",
    "    return (s*(s-self.side1)*(s-self.side2)*(s-self.side3))**0.5\n",
    "\n",
    "Obj1=Triangleexec(Tside1,Tside2,Tside3)\n",
    "print(\"Area of a Triangle:\" +str(Obj1.Area()))\n",
    "\n",
    "\n",
    "  \n",
    "\n"
   ]
  },
  {
   "cell_type": "code",
   "execution_count": 13,
   "metadata": {},
   "outputs": [
    {
     "name": "stdout",
     "output_type": "stream",
     "text": [
      "Enter string: I am fine thanks\n",
      "Enter minimum length: 3\n",
      "list of words with length greater than 3: ['fine', 'thanks']\n"
     ]
    }
   ],
   "source": [
    "# Ans 1.2\n",
    "\n",
    "Input_list_of_string=input(\"Enter string: \")\n",
    "Input_length=input(\"Enter minimum length: \")\n",
    "length=int(Input_length)\n",
    "L1=Input_list_of_string.split()\n",
    "\n",
    "    \n",
    "def filter_long_words(string,number):\n",
    "    Listoutput = []\n",
    "    for i in range(len(string)):\n",
    "        if len(string[i]) > number:\n",
    "            Listoutput.append(string[i])\n",
    "    return Listoutput\n",
    "         \n",
    "filter_long_words(L1,length)\n",
    "print(\"list of words with length greater than \"+str(length)+\": \"+str(filter_long_words(L1,length)))\n",
    "            \n",
    "        "
   ]
  },
  {
   "cell_type": "code",
   "execution_count": 15,
   "metadata": {},
   "outputs": [
    {
     "name": "stdout",
     "output_type": "stream",
     "text": [
      "Enter string csv:I,am,fine,thanks\n",
      "list of length of words[1, 2, 4, 6]\n"
     ]
    }
   ],
   "source": [
    "#Ans 2.1\n",
    "\n",
    "Input_string_list=input(\"Enter string csv:\")\n",
    "List_string=Input_string_list.split(',')\n",
    "\n",
    "def get_length_of_words(Liststring):\n",
    "    outputlist=[]\n",
    "    for getlen in range(len(Liststring)):\n",
    "        outputlist.append(len(Liststring[getlen]))\n",
    "    return outputlist\n",
    "print(\"list of length of words\"+str(get_length_of_words(List_string)))\n",
    "        \n"
   ]
  },
  {
   "cell_type": "code",
   "execution_count": 16,
   "metadata": {},
   "outputs": [
    {
     "name": "stdout",
     "output_type": "stream",
     "text": [
      "Enter any alphabet:A\n",
      "is entered character a vowel:True\n"
     ]
    }
   ],
   "source": [
    "#Ans 2.2\n",
    "\n",
    "Input_char=input(\"Enter any alphabet:\")\n",
    "\n",
    "def is_Vowel(Inputchar):\n",
    "    if (Inputchar in ('a','e','i','o','u','A','E','I','O','U')):\n",
    "        return True\n",
    "    else:\n",
    "        return False\n",
    "    \n",
    "print(\"is entered character a vowel:\"+ str(is_Vowel(Input_char)))"
   ]
  },
  {
   "cell_type": "code",
   "execution_count": null,
   "metadata": {},
   "outputs": [],
   "source": []
  }
 ],
 "metadata": {
  "kernelspec": {
   "display_name": "Python 3",
   "language": "python",
   "name": "python3"
  },
  "language_info": {
   "codemirror_mode": {
    "name": "ipython",
    "version": 3
   },
   "file_extension": ".py",
   "mimetype": "text/x-python",
   "name": "python",
   "nbconvert_exporter": "python",
   "pygments_lexer": "ipython3",
   "version": "3.7.3"
  }
 },
 "nbformat": 4,
 "nbformat_minor": 2
}
