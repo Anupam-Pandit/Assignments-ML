{
 "cells": [
  {
   "cell_type": "code",
   "execution_count": 40,
   "metadata": {},
   "outputs": [
    {
     "name": "stdout",
     "output_type": "stream",
     "text": [
      "11\n"
     ]
    }
   ],
   "source": [
    "## Assignment 03\n",
    "\n",
    "## Ans 1.1\n",
    "\n",
    "def myreduce(funcname,list):\n",
    "    value=list[0]\n",
    "    for i in list:  \n",
    "        value=funcname(value,i)\n",
    "    return(value)\n",
    "\n",
    "#test filter func   \n",
    "def sum1(x,y):\n",
    "    return(x+y)\n",
    "\n",
    "print(myreduce(sum1,[1,2,3,4]))\n",
    "\n",
    "\n",
    "\n",
    "\n",
    "\n"
   ]
  },
  {
   "cell_type": "code",
   "execution_count": 41,
   "metadata": {},
   "outputs": [
    {
     "name": "stdout",
     "output_type": "stream",
     "text": [
      "[2, 4]\n"
     ]
    }
   ],
   "source": [
    "#Ans 1.2\n",
    "\n",
    "def myfilter(funcname,list):\n",
    "    value1=[]\n",
    "    for i in list:  \n",
    "        if funcname(i):\n",
    "            value1.append(i)\n",
    "    return(value1)\n",
    "         \n",
    "#test filter func\n",
    "def is_even(x):\n",
    " if (x%2== 0): \n",
    "  return True \n",
    " else: \n",
    "  return False\n",
    "        \n",
    "\n",
    "print(myfilter(is_even,[2,3,4,5]))"
   ]
  },
  {
   "cell_type": "code",
   "execution_count": 70,
   "metadata": {},
   "outputs": [
    {
     "name": "stdout",
     "output_type": "stream",
     "text": [
      "['x', 'xx', 'xxx', 'xxxx', 'y', 'yy', 'yyy', 'yyyy', 'z', 'zz', 'zzz', 'zzzz']\n",
      "['x', 'y', 'z', 'xx', 'yy', 'zz', 'xxx', 'yyy', 'zzz', 'xxxx', 'yyyy', 'zzzz']\n",
      "[[2], [3], [4], [3], [4], [5], [4], [5], [6]]\n",
      "[[2, 3, 4, 5], [3, 4, 5, 6], [4, 5, 6, 7], [5, 6, 7, 8]]\n",
      "[(1, 1), (2, 1), (3, 1), (1, 2), (2, 2), (3, 2), (1, 3), (2, 3), (3, 3)]\n"
     ]
    }
   ],
   "source": [
    "#Ans 2- List COmprehension\n",
    "\n",
    "list0=['x','y','z']\n",
    "listcomp0=[n*k  for k in list0 for n in range(1,5)]\n",
    "print(listcomp0)\n",
    "\n",
    "list1=['x','y','z']\n",
    "listcomp1=[k*n for n in range(1,5) for k in list1]\n",
    "print(listcomp1)\n",
    "\n",
    "list2=[2,3,4]\n",
    "listcomp2=[[k+n] for n in range(0,3) for k in list2]\n",
    "print(listcomp2)\n",
    "\n",
    "list3=[2,3,4,5]\n",
    "listcomp3=[[k+n for k in list3] for n in range(0,4)]\n",
    "print(listcomp3)\n",
    "\n",
    "\n",
    "listcomp4=[(a,b) for b in range(1,4) for a in range(1,4) ]\n",
    "print(listcomp4)\n"
   ]
  },
  {
   "cell_type": "code",
   "execution_count": null,
   "metadata": {},
   "outputs": [],
   "source": []
  }
 ],
 "metadata": {
  "kernelspec": {
   "display_name": "Python 3",
   "language": "python",
   "name": "python3"
  },
  "language_info": {
   "codemirror_mode": {
    "name": "ipython",
    "version": 3
   },
   "file_extension": ".py",
   "mimetype": "text/x-python",
   "name": "python",
   "nbconvert_exporter": "python",
   "pygments_lexer": "ipython3",
   "version": "3.7.3"
  }
 },
 "nbformat": 4,
 "nbformat_minor": 2
}
